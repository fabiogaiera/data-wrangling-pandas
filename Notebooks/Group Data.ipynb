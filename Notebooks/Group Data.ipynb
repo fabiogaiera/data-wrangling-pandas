{
 "cells": [
  {
   "cell_type": "markdown",
   "id": "c244f9d7",
   "metadata": {},
   "source": [
    "### groupby()"
   ]
  },
  {
   "cell_type": "code",
   "execution_count": 1,
   "id": "1abd4270",
   "metadata": {},
   "outputs": [
    {
     "name": "stdout",
     "output_type": "stream",
     "text": [
      "Original DataFrame:\n",
      "         Date Product  Amount\n",
      "0  2023-08-01       A     100\n",
      "1  2023-08-01       B     150\n",
      "2  2023-08-02       A     200\n",
      "3  2023-08-02       C      75\n",
      "4  2023-08-03       B     120\n"
     ]
    }
   ],
   "source": [
    "import pandas as pd\n",
    "\n",
    "# Sample data\n",
    "data = {\n",
    "    'Date': ['2023-08-01', '2023-08-01', '2023-08-02', '2023-08-02', '2023-08-03'],\n",
    "    'Product': ['A', 'B', 'A', 'C', 'B'],\n",
    "    'Amount': [100, 150, 200, 75, 120]\n",
    "}\n",
    "\n",
    "df = pd.DataFrame(data)\n",
    "\n",
    "print(\"Original DataFrame:\")\n",
    "print(df)"
   ]
  },
  {
   "cell_type": "code",
   "execution_count": null,
   "id": "30c0bcf6",
   "metadata": {},
   "outputs": [],
   "source": [
    "# Grouping by the \"Product\" column and aggregating with sum()\n",
    "grouped = df.groupby(by='Product').sum()\n",
    "\n",
    "print(\"\\nGrouped DataFrame:\")\n",
    "print(grouped)"
   ]
  }
 ],
 "metadata": {
  "kernelspec": {
   "display_name": "Python 3 (ipykernel)",
   "language": "python",
   "name": "python3"
  },
  "language_info": {
   "codemirror_mode": {
    "name": "ipython",
    "version": 3
   },
   "file_extension": ".py",
   "mimetype": "text/x-python",
   "name": "python",
   "nbconvert_exporter": "python",
   "pygments_lexer": "ipython3",
   "version": "3.11.4"
  }
 },
 "nbformat": 4,
 "nbformat_minor": 5
}
