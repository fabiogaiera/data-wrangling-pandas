{
 "cells": [
  {
   "cell_type": "code",
   "execution_count": 1,
   "id": "6a5910d9",
   "metadata": {},
   "outputs": [],
   "source": [
    "import pandas as pd"
   ]
  },
  {
   "cell_type": "markdown",
   "id": "230a09fe",
   "metadata": {},
   "source": [
    "### melt()"
   ]
  },
  {
   "cell_type": "code",
   "execution_count": 2,
   "id": "e6ce4117",
   "metadata": {},
   "outputs": [
    {
     "name": "stdout",
     "output_type": "stream",
     "text": [
      "      Name  Math  Physics  Chemistry\n",
      "0    Alice    85       78         92\n",
      "1      Bob    72       90         88\n",
      "2  Charlie    90       82         78\n"
     ]
    }
   ],
   "source": [
    "data = {\n",
    "    'Name': ['Alice', 'Bob', 'Charlie'],\n",
    "    'Math': [85, 72, 90],\n",
    "    'Physics': [78, 90, 82],\n",
    "    'Chemistry': [92, 88, 78]\n",
    "}\n",
    "\n",
    "df = pd.DataFrame(data)\n",
    "print(df)"
   ]
  },
  {
   "cell_type": "code",
   "execution_count": 3,
   "id": "215e8363",
   "metadata": {},
   "outputs": [
    {
     "name": "stdout",
     "output_type": "stream",
     "text": [
      "      Name    Subject  Score\n",
      "0    Alice       Math     85\n",
      "1      Bob       Math     72\n",
      "2  Charlie       Math     90\n",
      "3    Alice    Physics     78\n",
      "4      Bob    Physics     90\n",
      "5  Charlie    Physics     82\n",
      "6    Alice  Chemistry     92\n",
      "7      Bob  Chemistry     88\n",
      "8  Charlie  Chemistry     78\n"
     ]
    }
   ],
   "source": [
    "melted_df = pd.melt(df, id_vars=['Name'], var_name='Subject', value_name='Score')\n",
    "print(melted_df)"
   ]
  },
  {
   "cell_type": "markdown",
   "id": "0d984b14",
   "metadata": {},
   "source": [
    "### concat()"
   ]
  },
  {
   "cell_type": "code",
   "execution_count": 4,
   "id": "5bbe7b7e",
   "metadata": {},
   "outputs": [
    {
     "name": "stdout",
     "output_type": "stream",
     "text": [
      "DataFrame 1:\n",
      "   A  B\n",
      "0  1  4\n",
      "1  2  5\n",
      "2  3  6\n",
      "\n",
      "DataFrame 2:\n",
      "   A   B\n",
      "0  7  10\n",
      "1  8  11\n",
      "2  9  12\n",
      "\n",
      "Concatenated DataFrame:\n",
      "   A   B\n",
      "0  1   4\n",
      "1  2   5\n",
      "2  3   6\n",
      "0  7  10\n",
      "1  8  11\n",
      "2  9  12\n"
     ]
    }
   ],
   "source": [
    "# Create two sample DataFrames\n",
    "data1 = {\n",
    "    'A': [1, 2, 3],\n",
    "    'B': [4, 5, 6]\n",
    "}\n",
    "df1 = pd.DataFrame(data1)\n",
    "\n",
    "data2 = {\n",
    "    'A': [7, 8, 9],\n",
    "    'B': [10, 11, 12]\n",
    "}\n",
    "df2 = pd.DataFrame(data2)\n",
    "\n",
    "# Concatenate along rows (axis=0)\n",
    "concatenated_df = pd.concat([df1, df2], axis=0)\n",
    "\n",
    "print(\"DataFrame 1:\")\n",
    "print(df1)\n",
    "print(\"\\nDataFrame 2:\")\n",
    "print(df2)\n",
    "print(\"\\nConcatenated DataFrame:\")\n",
    "print(concatenated_df)"
   ]
  },
  {
   "cell_type": "markdown",
   "id": "e128f275",
   "metadata": {},
   "source": [
    "### pivot()"
   ]
  },
  {
   "cell_type": "code",
   "execution_count": 5,
   "id": "7a01632c",
   "metadata": {},
   "outputs": [],
   "source": [
    "df = pd.DataFrame({'foo': ['one', 'one', 'one', 'two', 'two','two'],\n",
    "                    'bar': ['A', 'B', 'C', 'A', 'B', 'C'],\n",
    "                    'baz': [1, 2, 3, 4, 5, 6],\n",
    "                    'zoo': ['x', 'y', 'z', 'q', 'w', 't']})"
   ]
  },
  {
   "cell_type": "code",
   "execution_count": 6,
   "id": "b3d31948",
   "metadata": {},
   "outputs": [
    {
     "data": {
      "text/html": [
       "<div>\n",
       "<style scoped>\n",
       "    .dataframe tbody tr th:only-of-type {\n",
       "        vertical-align: middle;\n",
       "    }\n",
       "\n",
       "    .dataframe tbody tr th {\n",
       "        vertical-align: top;\n",
       "    }\n",
       "\n",
       "    .dataframe thead th {\n",
       "        text-align: right;\n",
       "    }\n",
       "</style>\n",
       "<table border=\"1\" class=\"dataframe\">\n",
       "  <thead>\n",
       "    <tr style=\"text-align: right;\">\n",
       "      <th>bar</th>\n",
       "      <th>A</th>\n",
       "      <th>B</th>\n",
       "      <th>C</th>\n",
       "    </tr>\n",
       "    <tr>\n",
       "      <th>foo</th>\n",
       "      <th></th>\n",
       "      <th></th>\n",
       "      <th></th>\n",
       "    </tr>\n",
       "  </thead>\n",
       "  <tbody>\n",
       "    <tr>\n",
       "      <th>one</th>\n",
       "      <td>1</td>\n",
       "      <td>2</td>\n",
       "      <td>3</td>\n",
       "    </tr>\n",
       "    <tr>\n",
       "      <th>two</th>\n",
       "      <td>4</td>\n",
       "      <td>5</td>\n",
       "      <td>6</td>\n",
       "    </tr>\n",
       "  </tbody>\n",
       "</table>\n",
       "</div>"
      ],
      "text/plain": [
       "bar  A  B  C\n",
       "foo         \n",
       "one  1  2  3\n",
       "two  4  5  6"
      ]
     },
     "execution_count": 6,
     "metadata": {},
     "output_type": "execute_result"
    }
   ],
   "source": [
    "df.pivot(index='foo', columns='bar', values='baz')"
   ]
  },
  {
   "cell_type": "markdown",
   "id": "1715f9be",
   "metadata": {},
   "source": [
    "### sort_values()"
   ]
  },
  {
   "cell_type": "code",
   "execution_count": 7,
   "id": "7705ac72",
   "metadata": {},
   "outputs": [
    {
     "name": "stdout",
     "output_type": "stream",
     "text": [
      "Original DataFrame:\n",
      "      Name  Age  Salary\n",
      "0    Alice   25   60000\n",
      "1      Bob   32   75000\n",
      "2  Charlie   28   65000\n",
      "3    David   22   50000\n",
      "4      Eve   30   80000\n",
      "\n",
      "Sorted by Age (ascending):\n",
      "      Name  Age  Salary\n",
      "3    David   22   50000\n",
      "0    Alice   25   60000\n",
      "2  Charlie   28   65000\n",
      "4      Eve   30   80000\n",
      "1      Bob   32   75000\n",
      "\n",
      "Sorted by Salary (descending):\n",
      "      Name  Age  Salary\n",
      "4      Eve   30   80000\n",
      "1      Bob   32   75000\n",
      "2  Charlie   28   65000\n",
      "0    Alice   25   60000\n",
      "3    David   22   50000\n",
      "\n",
      "Original Series:\n",
      "Alice      25\n",
      "Bob        32\n",
      "Charlie    28\n",
      "David      22\n",
      "Eve        30\n",
      "dtype: int64\n",
      "\n",
      "Sorted Series (descending):\n",
      "Bob        32\n",
      "Eve        30\n",
      "Charlie    28\n",
      "Alice      25\n",
      "David      22\n",
      "dtype: int64\n"
     ]
    }
   ],
   "source": [
    "# Create a sample DataFrame\n",
    "data = {\n",
    "    'Name': ['Alice', 'Bob', 'Charlie', 'David', 'Eve'],\n",
    "    'Age': [25, 32, 28, 22, 30],\n",
    "    'Salary': [60000, 75000, 65000, 50000, 80000]\n",
    "}\n",
    "\n",
    "df = pd.DataFrame(data)\n",
    "\n",
    "# Sort DataFrame by 'Age' column in ascending order\n",
    "sorted_df_age_asc = df.sort_values(by='Age')\n",
    "\n",
    "# Sort DataFrame by 'Salary' column in descending order\n",
    "sorted_df_salary_desc = df.sort_values(by='Salary', ascending=False)\n",
    "\n",
    "print(\"Original DataFrame:\")\n",
    "print(df)\n",
    "print(\"\\nSorted by Age (ascending):\")\n",
    "print(sorted_df_age_asc)\n",
    "print(\"\\nSorted by Salary (descending):\")\n",
    "print(sorted_df_salary_desc)\n",
    "\n",
    "# Create a sample Series\n",
    "ages = pd.Series([25, 32, 28, 22, 30], index=['Alice', 'Bob', 'Charlie', 'David', 'Eve'])\n",
    "\n",
    "# Sort Series in descending order\n",
    "sorted_ages_desc = ages.sort_values(ascending=False)\n",
    "\n",
    "print(\"\\nOriginal Series:\")\n",
    "print(ages)\n",
    "print(\"\\nSorted Series (descending):\")\n",
    "print(sorted_ages_desc)"
   ]
  },
  {
   "cell_type": "markdown",
   "id": "8c48d92c",
   "metadata": {},
   "source": [
    "### rename()"
   ]
  },
  {
   "cell_type": "code",
   "execution_count": 8,
   "id": "362679c2",
   "metadata": {},
   "outputs": [
    {
     "name": "stdout",
     "output_type": "stream",
     "text": [
      "Original DataFrame:\n",
      "   A  B  C\n",
      "0  1  4  7\n",
      "1  2  5  8\n",
      "2  3  6  9\n",
      "\n",
      "DataFrame after renaming columns:\n",
      "   Column_1  Column_2  Column_3\n",
      "0         1         4         7\n",
      "1         2         5         8\n",
      "2         3         6         9\n",
      "\n",
      "DataFrame after renaming index:\n",
      "       A  B  C\n",
      "Row_1  1  4  7\n",
      "Row_2  2  5  8\n",
      "Row_3  3  6  9\n"
     ]
    }
   ],
   "source": [
    "# Create a sample DataFrame\n",
    "data = {'A': [1, 2, 3],\n",
    "        'B': [4, 5, 6],\n",
    "        'C': [7, 8, 9]}\n",
    "df = pd.DataFrame(data)\n",
    "\n",
    "print(\"Original DataFrame:\")\n",
    "print(df)\n",
    "\n",
    "# Renaming columns using a dictionary\n",
    "new_column_names = {'A': 'Column_1', 'B': 'Column_2', 'C': 'Column_3'}\n",
    "df_renamed_columns = df.rename(columns=new_column_names)\n",
    "\n",
    "print(\"\\nDataFrame after renaming columns:\")\n",
    "print(df_renamed_columns)\n",
    "\n",
    "# Renaming index using a dictionary\n",
    "new_index_names = {0: 'Row_1', 1: 'Row_2', 2: 'Row_3'}\n",
    "df_renamed_index = df.rename(index=new_index_names)\n",
    "\n",
    "print(\"\\nDataFrame after renaming index:\")\n",
    "print(df_renamed_index)"
   ]
  },
  {
   "cell_type": "markdown",
   "id": "783fe257",
   "metadata": {},
   "source": [
    "### Other notebook below"
   ]
  },
  {
   "cell_type": "markdown",
   "id": "46179fb6",
   "metadata": {},
   "source": [
    "### drop()"
   ]
  },
  {
   "cell_type": "code",
   "execution_count": 9,
   "id": "4b47994e",
   "metadata": {},
   "outputs": [
    {
     "name": "stdout",
     "output_type": "stream",
     "text": [
      "Original DataFrame:\n",
      "      Name  Age  Gender\n",
      "0    Alice   25  Female\n",
      "1      Bob   30    Male\n",
      "2  Charlie   22    Male\n",
      "3    David   28    Male\n",
      "\n",
      "DataFrame after dropping row with index 2:\n",
      "    Name  Age  Gender\n",
      "0  Alice   25  Female\n",
      "1    Bob   30    Male\n",
      "3  David   28    Male\n",
      "\n",
      "DataFrame after dropping 'Age' column:\n",
      "      Name  Gender\n",
      "0    Alice  Female\n",
      "1      Bob    Male\n",
      "2  Charlie    Male\n",
      "3    David    Male\n"
     ]
    }
   ],
   "source": [
    "data = {\n",
    "    'Name': ['Alice', 'Bob', 'Charlie', 'David'],\n",
    "    'Age': [25, 30, 22, 28],\n",
    "    'Gender': ['Female', 'Male', 'Male', 'Male']\n",
    "}\n",
    "\n",
    "df = pd.DataFrame(data)\n",
    "print(\"Original DataFrame:\")\n",
    "print(df)\n",
    "\n",
    "# Drop row with index 2\n",
    "df_dropped_row = df.drop(2)\n",
    "print(\"\\nDataFrame after dropping row with index 2:\")\n",
    "print(df_dropped_row)\n",
    "\n",
    "# Drop the \"Age\" column\n",
    "df_dropped_column = df.drop('Age', axis=1)\n",
    "print(\"\\nDataFrame after dropping 'Age' column:\")\n",
    "print(df_dropped_column)"
   ]
  },
  {
   "cell_type": "markdown",
   "id": "0b8c025b",
   "metadata": {},
   "source": [
    "### Extract rows that meet logical criteria"
   ]
  },
  {
   "cell_type": "code",
   "execution_count": 10,
   "id": "74e8c51b",
   "metadata": {},
   "outputs": [
    {
     "name": "stdout",
     "output_type": "stream",
     "text": [
      "   Column1  Column2\n",
      "0       12       56\n",
      "1       45       78\n",
      "2       67       32\n",
      "3       23       90\n",
      "4       89       12\n",
      "5       34       54\n",
      "6       56       76\n",
      "7       78       98\n",
      "8       90       21\n",
      "9       31       43\n"
     ]
    },
    {
     "data": {
      "text/html": [
       "<div>\n",
       "<style scoped>\n",
       "    .dataframe tbody tr th:only-of-type {\n",
       "        vertical-align: middle;\n",
       "    }\n",
       "\n",
       "    .dataframe tbody tr th {\n",
       "        vertical-align: top;\n",
       "    }\n",
       "\n",
       "    .dataframe thead th {\n",
       "        text-align: right;\n",
       "    }\n",
       "</style>\n",
       "<table border=\"1\" class=\"dataframe\">\n",
       "  <thead>\n",
       "    <tr style=\"text-align: right;\">\n",
       "      <th></th>\n",
       "      <th>Column1</th>\n",
       "      <th>Column2</th>\n",
       "    </tr>\n",
       "  </thead>\n",
       "  <tbody>\n",
       "    <tr>\n",
       "      <th>2</th>\n",
       "      <td>67</td>\n",
       "      <td>32</td>\n",
       "    </tr>\n",
       "    <tr>\n",
       "      <th>4</th>\n",
       "      <td>89</td>\n",
       "      <td>12</td>\n",
       "    </tr>\n",
       "    <tr>\n",
       "      <th>7</th>\n",
       "      <td>78</td>\n",
       "      <td>98</td>\n",
       "    </tr>\n",
       "    <tr>\n",
       "      <th>8</th>\n",
       "      <td>90</td>\n",
       "      <td>21</td>\n",
       "    </tr>\n",
       "  </tbody>\n",
       "</table>\n",
       "</div>"
      ],
      "text/plain": [
       "   Column1  Column2\n",
       "2       67       32\n",
       "4       89       12\n",
       "7       78       98\n",
       "8       90       21"
      ]
     },
     "execution_count": 10,
     "metadata": {},
     "output_type": "execute_result"
    }
   ],
   "source": [
    "# Create a dictionary with integer data\n",
    "data = {\n",
    "    'Column1': [12, 45, 67, 23, 89, 34, 56, 78, 90, 31],\n",
    "    'Column2': [56, 78, 32, 90, 12, 54, 76, 98, 21, 43]\n",
    "}\n",
    "\n",
    "# Create the DataFrame\n",
    "df = pd.DataFrame(data)\n",
    "\n",
    "# Display the DataFrame\n",
    "print(df)\n",
    "\n",
    "# Filter by criteria\n",
    "df[df.Column1 > 60]"
   ]
  },
  {
   "cell_type": "markdown",
   "id": "9d996f75",
   "metadata": {},
   "source": [
    "### drop_duplicates()"
   ]
  },
  {
   "cell_type": "code",
   "execution_count": 11,
   "id": "ec0eaf23",
   "metadata": {},
   "outputs": [
    {
     "name": "stdout",
     "output_type": "stream",
     "text": [
      "Original DataFrame\n",
      "   Column1  Column2\n",
      "0        1        6\n",
      "1        2        7\n",
      "2        3        8\n",
      "3        4        9\n",
      "4        5       10\n",
      "5        1        6\n",
      "6        2        7\n",
      "7        3        8\n",
      "8        4        9\n",
      "9        5       10\n",
      "\n",
      "DataFrame without duplicates\n",
      "   Column1  Column2\n",
      "0        1        6\n",
      "1        2        7\n",
      "2        3        8\n",
      "3        4        9\n",
      "4        5       10\n"
     ]
    }
   ],
   "source": [
    "data = {\n",
    "    'Column1': [1, 2, 3, 4, 5, 1, 2, 3, 4, 5],\n",
    "    'Column2': [6, 7, 8, 9, 10, 6, 7, 8, 9, 10]\n",
    "}\n",
    "\n",
    "print(\"Original DataFrame\")\n",
    "df = pd.DataFrame(data)\n",
    "print(df)\n",
    "\n",
    "df = df.drop_duplicates()\n",
    "print(\"\\nDataFrame without duplicates\")\n",
    "print(df)"
   ]
  },
  {
   "cell_type": "markdown",
   "id": "be525d07",
   "metadata": {},
   "source": [
    "### sample()"
   ]
  },
  {
   "cell_type": "code",
   "execution_count": 12,
   "id": "ac6e51ba",
   "metadata": {},
   "outputs": [
    {
     "name": "stdout",
     "output_type": "stream",
     "text": [
      "Original DataFrame\n",
      "   Column1  Column2\n",
      "0        1        6\n",
      "1        2        7\n",
      "2        3        8\n",
      "3        4        9\n",
      "4        5       10\n",
      "5        1        6\n",
      "6        2        7\n",
      "7        3        8\n",
      "8        4        9\n",
      "9        5       10\n",
      "\n",
      "Get a fraction from the original DataFrame\n",
      "   Column1  Column2\n",
      "6        2        7\n",
      "8        4        9\n"
     ]
    }
   ],
   "source": [
    "data = {\n",
    "    'Column1': [1, 2, 3, 4, 5, 1, 2, 3, 4, 5],\n",
    "    'Column2': [6, 7, 8, 9, 10, 6, 7, 8, 9, 10]\n",
    "}\n",
    "\n",
    "print(\"Original DataFrame\")\n",
    "df = pd.DataFrame(data)\n",
    "print(df)\n",
    "\n",
    "df = df.sample(frac=0.2)\n",
    "print(\"\\nGet a fraction from the original DataFrame\")\n",
    "print(df)"
   ]
  },
  {
   "cell_type": "code",
   "execution_count": null,
   "id": "e7818d4b",
   "metadata": {},
   "outputs": [],
   "source": []
  }
 ],
 "metadata": {
  "kernelspec": {
   "display_name": "Python 3 (ipykernel)",
   "language": "python",
   "name": "python3"
  },
  "language_info": {
   "codemirror_mode": {
    "name": "ipython",
    "version": 3
   },
   "file_extension": ".py",
   "mimetype": "text/x-python",
   "name": "python",
   "nbconvert_exporter": "python",
   "pygments_lexer": "ipython3",
   "version": "3.11.4"
  }
 },
 "nbformat": 4,
 "nbformat_minor": 5
}
