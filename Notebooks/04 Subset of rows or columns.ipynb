{
 "cells": [
  {
   "cell_type": "code",
   "execution_count": 1,
   "id": "6a5910d9",
   "metadata": {},
   "outputs": [],
   "source": [
    "import pandas as pd"
   ]
  },
  {
   "cell_type": "markdown",
   "id": "46179fb6",
   "metadata": {},
   "source": [
    "### drop()"
   ]
  },
  {
   "cell_type": "code",
   "execution_count": 2,
   "id": "4b47994e",
   "metadata": {},
   "outputs": [
    {
     "name": "stdout",
     "output_type": "stream",
     "text": [
      "Original DataFrame:\n",
      "      Name  Age  Gender\n",
      "0    Alice   25  Female\n",
      "1      Bob   30    Male\n",
      "2  Charlie   22    Male\n",
      "3    David   28    Male\n",
      "\n",
      "DataFrame after dropping row with index 2:\n",
      "    Name  Age  Gender\n",
      "0  Alice   25  Female\n",
      "1    Bob   30    Male\n",
      "3  David   28    Male\n",
      "\n",
      "DataFrame after dropping 'Age' column:\n",
      "      Name  Gender\n",
      "0    Alice  Female\n",
      "1      Bob    Male\n",
      "2  Charlie    Male\n",
      "3    David    Male\n"
     ]
    }
   ],
   "source": [
    "data = {\n",
    "    'Name': ['Alice', 'Bob', 'Charlie', 'David'],\n",
    "    'Age': [25, 30, 22, 28],\n",
    "    'Gender': ['Female', 'Male', 'Male', 'Male']\n",
    "}\n",
    "\n",
    "df = pd.DataFrame(data)\n",
    "print(\"Original DataFrame:\")\n",
    "print(df)\n",
    "\n",
    "# Drop row with index 2\n",
    "df_dropped_row = df.drop(2)\n",
    "print(\"\\nDataFrame after dropping row with index 2:\")\n",
    "print(df_dropped_row)\n",
    "\n",
    "# Drop the \"Age\" column\n",
    "df_dropped_column = df.drop('Age', axis=1)\n",
    "print(\"\\nDataFrame after dropping 'Age' column:\")\n",
    "print(df_dropped_column)"
   ]
  },
  {
   "cell_type": "markdown",
   "id": "0b8c025b",
   "metadata": {},
   "source": [
    "### Extract rows that meet logical criteria"
   ]
  },
  {
   "cell_type": "code",
   "execution_count": 3,
   "id": "74e8c51b",
   "metadata": {},
   "outputs": [
    {
     "name": "stdout",
     "output_type": "stream",
     "text": [
      "   Column1  Column2\n",
      "0       12       56\n",
      "1       45       78\n",
      "2       67       32\n",
      "3       23       90\n",
      "4       89       12\n",
      "5       34       54\n",
      "6       56       76\n",
      "7       78       98\n",
      "8       90       21\n",
      "9       31       43\n"
     ]
    },
    {
     "data": {
      "text/html": [
       "<div>\n",
       "<style scoped>\n",
       "    .dataframe tbody tr th:only-of-type {\n",
       "        vertical-align: middle;\n",
       "    }\n",
       "\n",
       "    .dataframe tbody tr th {\n",
       "        vertical-align: top;\n",
       "    }\n",
       "\n",
       "    .dataframe thead th {\n",
       "        text-align: right;\n",
       "    }\n",
       "</style>\n",
       "<table border=\"1\" class=\"dataframe\">\n",
       "  <thead>\n",
       "    <tr style=\"text-align: right;\">\n",
       "      <th></th>\n",
       "      <th>Column1</th>\n",
       "      <th>Column2</th>\n",
       "    </tr>\n",
       "  </thead>\n",
       "  <tbody>\n",
       "    <tr>\n",
       "      <th>2</th>\n",
       "      <td>67</td>\n",
       "      <td>32</td>\n",
       "    </tr>\n",
       "    <tr>\n",
       "      <th>4</th>\n",
       "      <td>89</td>\n",
       "      <td>12</td>\n",
       "    </tr>\n",
       "    <tr>\n",
       "      <th>7</th>\n",
       "      <td>78</td>\n",
       "      <td>98</td>\n",
       "    </tr>\n",
       "    <tr>\n",
       "      <th>8</th>\n",
       "      <td>90</td>\n",
       "      <td>21</td>\n",
       "    </tr>\n",
       "  </tbody>\n",
       "</table>\n",
       "</div>"
      ],
      "text/plain": [
       "   Column1  Column2\n",
       "2       67       32\n",
       "4       89       12\n",
       "7       78       98\n",
       "8       90       21"
      ]
     },
     "execution_count": 3,
     "metadata": {},
     "output_type": "execute_result"
    }
   ],
   "source": [
    "# Create a dictionary with integer data\n",
    "data = {\n",
    "    'Column1': [12, 45, 67, 23, 89, 34, 56, 78, 90, 31],\n",
    "    'Column2': [56, 78, 32, 90, 12, 54, 76, 98, 21, 43]\n",
    "}\n",
    "\n",
    "# Create the DataFrame\n",
    "df = pd.DataFrame(data)\n",
    "\n",
    "# Display the DataFrame\n",
    "print(df)\n",
    "\n",
    "# Filter by criteria\n",
    "df[df.Column1 > 60]"
   ]
  },
  {
   "cell_type": "markdown",
   "id": "9d996f75",
   "metadata": {},
   "source": [
    "### drop_duplicates()"
   ]
  },
  {
   "cell_type": "code",
   "execution_count": 4,
   "id": "ec0eaf23",
   "metadata": {},
   "outputs": [
    {
     "name": "stdout",
     "output_type": "stream",
     "text": [
      "Original DataFrame\n",
      "   Column1  Column2\n",
      "0        1        6\n",
      "1        2        7\n",
      "2        3        8\n",
      "3        4        9\n",
      "4        5       10\n",
      "5        1        6\n",
      "6        2        7\n",
      "7        3        8\n",
      "8        4        9\n",
      "9        5       10\n",
      "\n",
      "DataFrame without duplicates\n",
      "   Column1  Column2\n",
      "0        1        6\n",
      "1        2        7\n",
      "2        3        8\n",
      "3        4        9\n",
      "4        5       10\n"
     ]
    }
   ],
   "source": [
    "data = {\n",
    "    'Column1': [1, 2, 3, 4, 5, 1, 2, 3, 4, 5],\n",
    "    'Column2': [6, 7, 8, 9, 10, 6, 7, 8, 9, 10]\n",
    "}\n",
    "\n",
    "print(\"Original DataFrame\")\n",
    "df = pd.DataFrame(data)\n",
    "print(df)\n",
    "\n",
    "df = df.drop_duplicates()\n",
    "print(\"\\nDataFrame without duplicates\")\n",
    "print(df)"
   ]
  },
  {
   "cell_type": "markdown",
   "id": "be525d07",
   "metadata": {},
   "source": [
    "### sample()"
   ]
  },
  {
   "cell_type": "code",
   "execution_count": 5,
   "id": "ac6e51ba",
   "metadata": {},
   "outputs": [
    {
     "name": "stdout",
     "output_type": "stream",
     "text": [
      "Original DataFrame\n",
      "   Column1  Column2\n",
      "0        1        6\n",
      "1        2        7\n",
      "2        3        8\n",
      "3        4        9\n",
      "4        5       10\n",
      "5        1        6\n",
      "6        2        7\n",
      "7        3        8\n",
      "8        4        9\n",
      "9        5       10\n",
      "\n",
      "Get a fraction from the original DataFrame\n",
      "   Column1  Column2\n",
      "1        2        7\n",
      "2        3        8\n"
     ]
    }
   ],
   "source": [
    "data = {\n",
    "    'Column1': [1, 2, 3, 4, 5, 1, 2, 3, 4, 5],\n",
    "    'Column2': [6, 7, 8, 9, 10, 6, 7, 8, 9, 10]\n",
    "}\n",
    "\n",
    "print(\"Original DataFrame\")\n",
    "df = pd.DataFrame(data)\n",
    "print(df)\n",
    "\n",
    "df = df.sample(frac=0.2)\n",
    "print(\"\\nGet a fraction from the original DataFrame\")\n",
    "print(df)"
   ]
  }
 ],
 "metadata": {
  "kernelspec": {
   "display_name": "Python 3 (ipykernel)",
   "language": "python",
   "name": "python3"
  },
  "language_info": {
   "codemirror_mode": {
    "name": "ipython",
    "version": 3
   },
   "file_extension": ".py",
   "mimetype": "text/x-python",
   "name": "python",
   "nbconvert_exporter": "python",
   "pygments_lexer": "ipython3",
   "version": "3.11.4"
  }
 },
 "nbformat": 4,
 "nbformat_minor": 5
}
