{
 "cells": [
  {
   "cell_type": "markdown",
   "id": "29b6560c",
   "metadata": {},
   "source": [
    "### groupby(by=\"col\")"
   ]
  },
  {
   "cell_type": "code",
   "execution_count": 1,
   "id": "01f9ee1e",
   "metadata": {},
   "outputs": [
    {
     "name": "stdout",
     "output_type": "stream",
     "text": [
      "Original DataFrame:\n",
      "         Date Product  Amount\n",
      "0  2023-08-01       A     100\n",
      "1  2023-08-01       B     150\n",
      "2  2023-08-02       A     200\n",
      "3  2023-08-02       C      75\n",
      "4  2023-08-03       B     120\n"
     ]
    }
   ],
   "source": [
    "import pandas as pd\n",
    "\n",
    "# Sample data\n",
    "data = {\n",
    "    'Date': ['2023-08-01', '2023-08-01', '2023-08-02', '2023-08-02', '2023-08-03'],\n",
    "    'Product': ['A', 'B', 'A', 'C', 'B'],\n",
    "    'Amount': [100, 150, 200, 75, 120]\n",
    "}\n",
    "\n",
    "df = pd.DataFrame(data)\n",
    "\n",
    "print(\"Original DataFrame:\")\n",
    "print(df)"
   ]
  },
  {
   "cell_type": "code",
   "execution_count": 2,
   "id": "9d276352",
   "metadata": {},
   "outputs": [
    {
     "name": "stdout",
     "output_type": "stream",
     "text": [
      "\n",
      "Grouped DataFrame:\n",
      "                         Date  Amount\n",
      "Product                              \n",
      "A        2023-08-012023-08-02     300\n",
      "B        2023-08-012023-08-03     270\n",
      "C                  2023-08-02      75\n"
     ]
    }
   ],
   "source": [
    "# Grouping by the \"Product\" column and aggregating with sum()\n",
    "grouped = df.groupby(by='Product').sum()\n",
    "\n",
    "print(\"\\nGrouped DataFrame:\")\n",
    "print(grouped)"
   ]
  },
  {
   "cell_type": "markdown",
   "id": "58ed4ae1",
   "metadata": {},
   "source": [
    "### groupby(level=\"index\")"
   ]
  },
  {
   "cell_type": "code",
   "execution_count": 3,
   "id": "9566fddc",
   "metadata": {},
   "outputs": [
    {
     "name": "stdout",
     "output_type": "stream",
     "text": [
      "Original Multi-index DataFrame:\n",
      "                        Date Product  Amount\n",
      "Store  Location                             \n",
      "Store1 Location1  2023-08-01       A     100\n",
      "       Location2  2023-08-01       B     150\n",
      "       Location3  2023-08-02       A     200\n",
      "Store2 Location1  2023-08-02       C      75\n",
      "       Location2  2023-08-03       B     120\n"
     ]
    }
   ],
   "source": [
    "index = pd.MultiIndex.from_tuples([('Store1', 'Location1'),\n",
    "                                   ('Store1', 'Location2'),\n",
    "                                   ('Store1', 'Location3'),\n",
    "                                   ('Store2', 'Location1'),\n",
    "                                   ('Store2', 'Location2')],\n",
    "                                 names=['Store', 'Location'])\n",
    "\n",
    "df = pd.DataFrame(data, index=index)\n",
    "\n",
    "print(\"Original Multi-index DataFrame:\")\n",
    "print(df)"
   ]
  },
  {
   "cell_type": "code",
   "execution_count": null,
   "id": "4f2dc5a1",
   "metadata": {},
   "outputs": [],
   "source": []
  }
 ],
 "metadata": {
  "kernelspec": {
   "display_name": "Python 3 (ipykernel)",
   "language": "python",
   "name": "python3"
  },
  "language_info": {
   "codemirror_mode": {
    "name": "ipython",
    "version": 3
   },
   "file_extension": ".py",
   "mimetype": "text/x-python",
   "name": "python",
   "nbconvert_exporter": "python",
   "pygments_lexer": "ipython3",
   "version": "3.11.4"
  }
 },
 "nbformat": 4,
 "nbformat_minor": 5
}
