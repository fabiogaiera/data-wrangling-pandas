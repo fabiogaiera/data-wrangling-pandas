{
 "cells": [
  {
   "cell_type": "markdown",
   "id": "59ae5717",
   "metadata": {},
   "source": [
    "A tidy dataset refers to a structured and organized format for representing data that facilitates analysis and visualization. In a tidy dataset:\n",
    "\n",
    "1. Each variable forms a column: Each column represents a distinct variable or attribute, and each column holds values of that variable.\n",
    "\n",
    "2. Each observation forms a row: Each row represents a unique observation or case. All the information related to a particular observation is stored within that row.\n",
    "\n",
    "3. Each type of observational unit forms a table: Each table or data frame corresponds to a specific type of observational unit or entity. This promotes modularity and avoids mixing different types of data in the same table."
   ]
  },
  {
   "cell_type": "code",
   "execution_count": 1,
   "id": "19330688",
   "metadata": {},
   "outputs": [],
   "source": [
    "import pandas as pd"
   ]
  },
  {
   "cell_type": "code",
   "execution_count": 2,
   "id": "f1921f0b",
   "metadata": {},
   "outputs": [
    {
     "name": "stdout",
     "output_type": "stream",
     "text": [
      "    A   B     C   D\n",
      "0   5   2   100   7\n",
      "1  10   4   200  14\n",
      "2  15   6   300  21\n",
      "3  20   8   400  28\n",
      "4  25  10   500  35\n",
      "5  30  12   600  42\n",
      "6  35  14   700  49\n",
      "7  40  16   800  56\n",
      "8  45  18   900  63\n",
      "9  50  20  1000  70\n"
     ]
    }
   ],
   "source": [
    "data = {\n",
    "    'A': [5, 10, 15, 20, 25, 30, 35, 40, 45, 50],\n",
    "    'B': [2, 4, 6, 8, 10, 12, 14, 16, 18, 20],\n",
    "    'C': [100, 200, 300, 400, 500, 600, 700, 800, 900, 1000],\n",
    "    'D': [7, 14, 21, 28, 35, 42, 49, 56, 63, 70]\n",
    "}\n",
    "\n",
    "df = pd.DataFrame(data)\n",
    "\n",
    "print(df)"
   ]
  }
 ],
 "metadata": {
  "kernelspec": {
   "display_name": "Python 3 (ipykernel)",
   "language": "python",
   "name": "python3"
  },
  "language_info": {
   "codemirror_mode": {
    "name": "ipython",
    "version": 3
   },
   "file_extension": ".py",
   "mimetype": "text/x-python",
   "name": "python",
   "nbconvert_exporter": "python",
   "pygments_lexer": "ipython3",
   "version": "3.11.4"
  }
 },
 "nbformat": 4,
 "nbformat_minor": 5
}
